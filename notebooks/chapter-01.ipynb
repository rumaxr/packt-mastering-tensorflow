{
  "cells": [
    {
      "cell_type": "code",
      "execution_count": 11,
      "metadata": {
        "pycharm": {
          "is_executing": false
        }
      },
      "outputs": [
        {
          "name": "stdout",
          "text": [
            "b\u0027Hello Tensorflow\u0027\n"
          ],
          "output_type": "stream"
        },
        {
          "name": "stderr",
          "text": [
            "/usr/local/lib/python3.5/dist-packages/tensorflow/python/client/session.py:1702: UserWarning: An interactive session is already active. This can cause out-of-memory errors in some cases. You must explicitly call `InteractiveSession.close()` to release resources held by the other session(s).\n  warnings.warn(\u0027An interactive session is already active. This can \u0027\n"
          ],
          "output_type": "stream"
        }
      ],
      "source": "import tensorflow as tf\nimport numpy as np\n\ntfs \u003d tf.InteractiveSession()\nhello \u003d tf.constant(\"Hello Tensorflow\")\nprint(tfs.run(hello))"
    },
    {
      "cell_type": "code",
      "execution_count": 3,
      "metadata": {
        "pycharm": {}
      },
      "outputs": [
        {
          "name": "stdout",
          "output_type": "stream",
          "text": [
            "c1 (x):  Tensor(\"x_1:0\", shape\u003d(), dtype\u003dint32)\n",
            "c2 (y):  Tensor(\"y_1:0\", shape\u003d(), dtype\u003dfloat32)\n",
            "c3 (z):  Tensor(\"z_1:0\", shape\u003d(), dtype\u003dfloat32)\n",
            "run([c1, c2, c3]) :  [5, 6.0, 7.0]\n"
          ]
        }
      ],
      "source": [
        "c1 \u003d tf.constant(5, name\u003d\u0027x\u0027)\n",
        "c2 \u003d tf.constant(6.0, name\u003d\u0027y\u0027)\n",
        "c3 \u003d tf.constant(7.0, tf.float32, name\u003d\u0027z\u0027)\n",
        "\n",
        "print(\u0027c1 (x): \u0027, c1)\n",
        "print(\u0027c2 (y): \u0027, c2)\n",
        "print(\u0027c3 (z): \u0027, c3)\n",
        "\n",
        "print(\u0027run([c1, c2, c3]) : \u0027, tfs.run([c1, c2, c3]))"
      ]
    },
    {
      "cell_type": "code",
      "execution_count": 4,
      "metadata": {
        "pycharm": {}
      },
      "outputs": [
        {
          "name": "stdout",
          "output_type": "stream",
          "text": [
            "13.0\n",
            "42.0\n"
          ]
        }
      ],
      "source": [
        "op1 \u003d tf.add(c2, c3)\n",
        "op2 \u003d tf.multiply(c2, c3)\n",
        "\n",
        "result1 \u003d tfs.run(op1)\n",
        "result2 \u003d tfs.run(op2)\n",
        "\n",
        "print(result1)\n",
        "print(result2)"
      ]
    },
    {
      "cell_type": "code",
      "execution_count": 6,
      "metadata": {
        "pycharm": {
          "is_executing": false
        }
      },
      "outputs": [
        {
          "name": "stdout",
          "text": [
            "p1:  Tensor(\"Placeholder_6:0\", dtype\u003dfloat32)\np2:  Tensor(\"Placeholder_7:0\", dtype\u003dfloat32)\n6.0\n"
          ],
          "output_type": "stream"
        }
      ],
      "source": "p1 \u003d tf.placeholder(tf.float32)\np2 \u003d tf.placeholder(tf.float32)\nprint(\u0027p1: \u0027, p1)\nprint(\u0027p2: \u0027, p2)\n\nop4 \u003d p1 * p2\nresult_placeholders \u003d tfs.run(op4, {p1: 2.0, p2: 3.0})\n\nprint(result_placeholders)"
    },
    {
      "cell_type": "code",
      "execution_count": 7,
      "outputs": [
        {
          "name": "stdout",
          "text": [
            "[ 6. 12. 20.]\n"
          ],
          "output_type": "stream"
        }
      ],
      "source": "result_placeholders_vector \u003d tfs.run(op4, feed_dict\u003d{p1: [2.0, 3.0, 4.0], p2: [3.0, 4.0, 5.0]})\nprint(result_placeholders_vector)",
      "metadata": {
        "pycharm": {
          "metadata": false,
          "name": "#%%\n",
          "is_executing": false
        }
      }
    },
    {
      "cell_type": "code",
      "execution_count": 9,
      "outputs": [
        {
          "name": "stdout",
          "text": [
            "Tensor(\"Const_2:0\", shape\u003d(), dtype\u003dfloat64)\n5.0\n"
          ],
          "output_type": "stream"
        }
      ],
      "source": "tf_t \u003d tf.convert_to_tensor(5.0, dtype\u003dtf.float64)\n\nprint(tf_t)\nprint(tfs.run(tf_t))",
      "metadata": {
        "pycharm": {
          "metadata": false,
          "name": "#%%\n",
          "is_executing": false
        }
      }
    },
    {
      "cell_type": "code",
      "execution_count": 13,
      "outputs": [
        {
          "name": "stdout",
          "text": [
            "[1.   2.   3.   4.   5.99]\nTensor(\"Const_5:0\", shape\u003d(5,), dtype\u003dfloat64)\nTensor(\"strided_slice_2:0\", shape\u003d(), dtype\u003dfloat64)\nTensor(\"strided_slice_3:0\", shape\u003d(), dtype\u003dfloat64)\n[1.   2.   3.   4.   5.99]\n"
          ],
          "output_type": "stream"
        }
      ],
      "source": "a1dim \u003d np.array([1, 2, 3, 4, 5.99])\nprint(a1dim)\n\ntf_t \u003d tf.convert_to_tensor(a1dim, dtype\u003dtf.float64)\n\nprint(tf_t)\nprint(tf_t[0])\nprint(tf_t[2])\nprint(tfs.run(tf_t))",
      "metadata": {
        "pycharm": {
          "metadata": false,
          "name": "#%%\n",
          "is_executing": false
        }
      }
    },
    {
      "cell_type": "code",
      "execution_count": 15,
      "outputs": [
        {
          "name": "stdout",
          "text": [
            "(3, 5)\n[[1.   2.   3.   4.   5.99]\n [2.   3.   4.   5.   6.99]\n [3.   4.   5.   6.   7.99]]\n"
          ],
          "output_type": "stream"
        }
      ],
      "source": "a2dim \u003d np.array([\n    (1, 2, 3, 4, 5.99),\n    (2, 3, 4, 5, 6.99),\n    (3, 4, 5, 6, 7.99)\n])\nprint(a2dim.shape)\ntf_t \u003d tf.convert_to_tensor(a2dim, dtype\u003dtf.float64)\nprint(tfs.run(tf_t))",
      "metadata": {
        "pycharm": {
          "metadata": false,
          "name": "#%%\n",
          "is_executing": false
        }
      }
    },
    {
      "cell_type": "code",
      "execution_count": 19,
      "outputs": [
        {
          "name": "stdout",
          "text": [
            "\u003ctf.Variable \u0027Variable_6:0\u0027 shape\u003d(1,) dtype\u003dfloat32_ref\u003e\nTensor(\"Placeholder_11:0\", dtype\u003dfloat32)\n\u003ctf.Variable \u0027Variable_7:0\u0027 shape\u003d(1,) dtype\u003dfloat32_ref\u003e\nTensor(\"add_3:0\", dtype\u003dfloat32)\nrun(y, {x:[1, 2, 3, 4]} :  [0.         0.3        0.6        0.90000004]\n"
          ],
          "output_type": "stream"
        }
      ],
      "source": "w \u003d tf.Variable([.3], tf.float32)\nb \u003d tf.Variable([-.3], tf.float32)\nx \u003d tf.placeholder(tf.float32)\ny \u003d w * x + b\n\nprint(w)\nprint(x)\nprint(b)\nprint(y)\ntfs.run(tf.global_variables_initializer())\nprint(\u0027run(y, {x:[1, 2, 3, 4]} : \u0027, tfs.run(y, {x: [1, 2, 3, 4]}))",
      "metadata": {
        "pycharm": {
          "metadata": false,
          "name": "#%%\n",
          "is_executing": false
        }
      }
    }
  ],
  "metadata": {
    "kernelspec": {
      "display_name": "Python 3",
      "language": "python",
      "name": "python3"
    },
    "language_info": {
      "codemirror_mode": {
        "name": "ipython",
        "version": 3
      },
      "file_extension": ".py",
      "mimetype": "text/x-python",
      "name": "python",
      "nbconvert_exporter": "python",
      "pygments_lexer": "ipython3",
      "version": "3.5.2"
    }
  },
  "nbformat": 4,
  "nbformat_minor": 2
}