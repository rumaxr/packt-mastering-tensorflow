{
 "cells": [
  {
   "cell_type": "code",
   "execution_count": 11,
   "metadata": {
    "pycharm": {
     "is_executing": false
    }
   },
   "outputs": [
    {
     "name": "stdout",
     "output_type": "stream",
     "text": [
      "b'Hello Tensorflow'\n"
     ]
    },
    {
     "name": "stderr",
     "output_type": "stream",
     "text": [
      "/usr/local/lib/python3.5/dist-packages/tensorflow/python/client/session.py:1702: UserWarning: An interactive session is already active. This can cause out-of-memory errors in some cases. You must explicitly call `InteractiveSession.close()` to release resources held by the other session(s).\n",
      "  warnings.warn('An interactive session is already active. This can '\n"
     ]
    }
   ],
   "source": [
    "import tensorflow as tf\n",
    "import numpy as np\n",
    "\n",
    "tfs = tf.InteractiveSession()\n",
    "hello = tf.constant(\"Hello Tensorflow\")\n",
    "print(tfs.run(hello))"
   ]
  },
  {
   "cell_type": "code",
   "execution_count": 3,
   "metadata": {
    "pycharm": {}
   },
   "outputs": [
    {
     "name": "stdout",
     "output_type": "stream",
     "text": [
      "c1 (x):  Tensor(\"x_1:0\", shape=(), dtype=int32)\n",
      "c2 (y):  Tensor(\"y_1:0\", shape=(), dtype=float32)\n",
      "c3 (z):  Tensor(\"z_1:0\", shape=(), dtype=float32)\n",
      "run([c1, c2, c3]) :  [5, 6.0, 7.0]\n"
     ]
    }
   ],
   "source": [
    "c1 = tf.constant(5, name='x')\n",
    "c2 = tf.constant(6.0, name='y')\n",
    "c3 = tf.constant(7.0, tf.float32, name='z')\n",
    "\n",
    "print('c1 (x): ', c1)\n",
    "print('c2 (y): ', c2)\n",
    "print('c3 (z): ', c3)\n",
    "\n",
    "print('run([c1, c2, c3]) : ', tfs.run([c1, c2, c3]))"
   ]
  },
  {
   "cell_type": "code",
   "execution_count": 4,
   "metadata": {
    "pycharm": {}
   },
   "outputs": [
    {
     "name": "stdout",
     "output_type": "stream",
     "text": [
      "13.0\n",
      "42.0\n"
     ]
    }
   ],
   "source": [
    "op1 = tf.add(c2, c3)\n",
    "op2 = tf.multiply(c2, c3)\n",
    "\n",
    "result1 = tfs.run(op1)\n",
    "result2 = tfs.run(op2)\n",
    "\n",
    "print(result1)\n",
    "print(result2)"
   ]
  },
  {
   "cell_type": "code",
   "execution_count": 6,
   "metadata": {
    "pycharm": {
     "is_executing": false
    }
   },
   "outputs": [
    {
     "name": "stdout",
     "output_type": "stream",
     "text": [
      "p1:  Tensor(\"Placeholder_6:0\", dtype=float32)\n",
      "p2:  Tensor(\"Placeholder_7:0\", dtype=float32)\n",
      "6.0\n"
     ]
    }
   ],
   "source": [
    "p1 = tf.placeholder(tf.float32)\n",
    "p2 = tf.placeholder(tf.float32)\n",
    "print('p1: ', p1)\n",
    "print('p2: ', p2)\n",
    "\n",
    "op4 = p1 * p2\n",
    "result_placeholders = tfs.run(op4, {p1: 2.0, p2: 3.0})\n",
    "\n",
    "print(result_placeholders)"
   ]
  },
  {
   "cell_type": "code",
   "execution_count": 7,
   "metadata": {
    "pycharm": {
     "is_executing": false,
     "metadata": false,
     "name": "#%%\n"
    }
   },
   "outputs": [
    {
     "name": "stdout",
     "output_type": "stream",
     "text": [
      "[ 6. 12. 20.]\n"
     ]
    }
   ],
   "source": [
    "result_placeholders_vector = tfs.run(op4, feed_dict={p1: [2.0, 3.0, 4.0], p2: [3.0, 4.0, 5.0]})\n",
    "print(result_placeholders_vector)"
   ]
  },
  {
   "cell_type": "code",
   "execution_count": 9,
   "metadata": {
    "pycharm": {
     "is_executing": false,
     "metadata": false,
     "name": "#%%\n"
    }
   },
   "outputs": [
    {
     "name": "stdout",
     "output_type": "stream",
     "text": [
      "Tensor(\"Const_2:0\", shape=(), dtype=float64)\n",
      "5.0\n"
     ]
    }
   ],
   "source": [
    "tf_t = tf.convert_to_tensor(5.0, dtype=tf.float64)\n",
    "\n",
    "print(tf_t)\n",
    "print(tfs.run(tf_t))"
   ]
  },
  {
   "cell_type": "code",
   "execution_count": 13,
   "metadata": {
    "pycharm": {
     "is_executing": false,
     "metadata": false,
     "name": "#%%\n"
    }
   },
   "outputs": [
    {
     "name": "stdout",
     "output_type": "stream",
     "text": [
      "[1.   2.   3.   4.   5.99]\n",
      "Tensor(\"Const_5:0\", shape=(5,), dtype=float64)\n",
      "Tensor(\"strided_slice_2:0\", shape=(), dtype=float64)\n",
      "Tensor(\"strided_slice_3:0\", shape=(), dtype=float64)\n",
      "[1.   2.   3.   4.   5.99]\n"
     ]
    }
   ],
   "source": [
    "a1dim = np.array([1, 2, 3, 4, 5.99])\n",
    "print(a1dim)\n",
    "\n",
    "tf_t = tf.convert_to_tensor(a1dim, dtype=tf.float64)\n",
    "\n",
    "print(tf_t)\n",
    "print(tf_t[0])\n",
    "print(tf_t[2])\n",
    "print(tfs.run(tf_t))"
   ]
  },
  {
   "cell_type": "code",
   "execution_count": 15,
   "metadata": {
    "pycharm": {
     "is_executing": false,
     "metadata": false,
     "name": "#%%\n"
    }
   },
   "outputs": [
    {
     "name": "stdout",
     "output_type": "stream",
     "text": [
      "(3, 5)\n",
      "[[1.   2.   3.   4.   5.99]\n",
      " [2.   3.   4.   5.   6.99]\n",
      " [3.   4.   5.   6.   7.99]]\n"
     ]
    }
   ],
   "source": [
    "a2dim = np.array([\n",
    "    (1, 2, 3, 4, 5.99),\n",
    "    (2, 3, 4, 5, 6.99),\n",
    "    (3, 4, 5, 6, 7.99)\n",
    "])\n",
    "print(a2dim.shape)\n",
    "tf_t = tf.convert_to_tensor(a2dim, dtype=tf.float64)\n",
    "print(tfs.run(tf_t))"
   ]
  },
  {
   "cell_type": "code",
   "execution_count": 19,
   "metadata": {
    "pycharm": {
     "is_executing": false,
     "metadata": false,
     "name": "#%%\n"
    }
   },
   "outputs": [
    {
     "name": "stdout",
     "output_type": "stream",
     "text": [
      "<tf.Variable 'Variable_6:0' shape=(1,) dtype=float32_ref>\n",
      "Tensor(\"Placeholder_11:0\", dtype=float32)\n",
      "<tf.Variable 'Variable_7:0' shape=(1,) dtype=float32_ref>\n",
      "Tensor(\"add_3:0\", dtype=float32)\n",
      "run(y, {x:[1, 2, 3, 4]} :  [0.         0.3        0.6        0.90000004]\n"
     ]
    }
   ],
   "source": [
    "w = tf.Variable([.3], tf.float32)\n",
    "b = tf.Variable([-.3], tf.float32)\n",
    "x = tf.placeholder(tf.float32)\n",
    "y = w * x + b\n",
    "\n",
    "print(w)\n",
    "print(x)\n",
    "print(b)\n",
    "print(y)\n",
    "tfs.run(tf.global_variables_initializer())\n",
    "print('run(y, {x:[1, 2, 3, 4]} : ', tfs.run(y, {x: [1, 2, 3, 4]}))"
   ]
  }
 ],
 "metadata": {
  "kernelspec": {
   "display_name": "Python 3",
   "language": "python",
   "name": "python3"
  },
  "language_info": {
   "codemirror_mode": {
    "name": "ipython",
    "version": 3
   },
   "file_extension": ".py",
   "mimetype": "text/x-python",
   "name": "python",
   "nbconvert_exporter": "python",
   "pygments_lexer": "ipython3",
   "version": "3.5.2"
  }
 },
 "nbformat": 4,
 "nbformat_minor": 2
}
